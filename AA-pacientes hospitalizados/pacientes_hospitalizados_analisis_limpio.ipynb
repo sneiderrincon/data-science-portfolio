{
 "cells": [
  {
   "cell_type": "markdown",
   "id": "c72db1af",
   "metadata": {},
   "source": [
    "# Análisis de Hospitalización de Pacientes\n",
    "Este notebook analiza los datos de pacientes hospitalizados y la duración de su estancia en días."
   ]
  },
  {
   "cell_type": "markdown",
   "id": "8c7bc0f6",
   "metadata": {},
   "source": [
    "## 1. Importación de librerías\n",
    "En esta sección se importan las librerías necesarias para el análisis, como **pandas** para manejo de datos y **numpy** para operaciones numéricas."
   ]
  },
  {
   "cell_type": "code",
   "execution_count": 50,
   "id": "9382e260-91ff-455e-817b-814874d31d42",
   "metadata": {},
   "outputs": [],
   "source": [
    "#importando librerias\n",
    "import pandas as pd\n",
    "import numpy as np"
   ]
  },
  {
   "cell_type": "markdown",
   "id": "db6f9fee",
   "metadata": {},
   "source": [
    "## 2. Carga de datos\n",
    "Se carga el dataset `pacientes_hospitalizados_con_dias.csv` para su análisis inicial."
   ]
  },
  {
   "cell_type": "code",
   "execution_count": 51,
   "id": "9983ef08-d32a-4165-bf54-89fa1a1c2380",
   "metadata": {},
   "outputs": [
    {
     "name": "stdout",
     "output_type": "stream",
     "text": [
      "  ID_Paciente  Nombre  Edad Sexo   Diagnóstico Días_Hospitalización  \\\n",
      "0       P0001     Ana    52    M      Diabetes              26 días   \n",
      "1       P0002    Juan    93    M      Fractura              22 días   \n",
      "2       P0003  Miguel    15    F  Hipertensión             dos días   \n",
      "3       P0004   Lucía    72    M      Diabetes              20 días   \n",
      "4       P0005   Lucía    61    M      Fractura              27 días   \n",
      "\n",
      "      Unidad Fecha_Ingreso Seguro_Médico    Ciudad  \n",
      "0    Cirugía    2024-04-23            Sí  Medellín  \n",
      "1        UCI    2024-01-08            No  Medellín  \n",
      "2  Pediatría    2024-03-12            No      Cali  \n",
      "3        UCI    2024-06-26            No    Bogotá  \n",
      "4  Urgencias    2024-04-01            No  Medellín  \n"
     ]
    }
   ],
   "source": [
    "df = pd.read_csv(\"pacientes_hospitalizados_con_dias.csv\")\n",
    "print(df.head())"
   ]
  },
  {
   "cell_type": "markdown",
   "id": "c274f5d4",
   "metadata": {},
   "source": [
    "**Análisis preliminar:** El conjunto de datos muestra un ejemplo de las primeras filas, lo que permite validar que la carga fue exitosa."
   ]
  },
  {
   "cell_type": "code",
   "execution_count": 52,
   "id": "a6c3093b-141c-4963-8318-2afd7649f63c",
   "metadata": {},
   "outputs": [
    {
     "name": "stdout",
     "output_type": "stream",
     "text": [
      "<class 'pandas.core.frame.DataFrame'>\n",
      "RangeIndex: 500 entries, 0 to 499\n",
      "Data columns (total 10 columns):\n",
      " #   Column                Non-Null Count  Dtype \n",
      "---  ------                --------------  ----- \n",
      " 0   ID_Paciente           500 non-null    object\n",
      " 1   Nombre                500 non-null    object\n",
      " 2   Edad                  500 non-null    int64 \n",
      " 3   Sexo                  500 non-null    object\n",
      " 4   Diagnóstico           500 non-null    object\n",
      " 5   Días_Hospitalización  500 non-null    object\n",
      " 6   Unidad                500 non-null    object\n",
      " 7   Fecha_Ingreso         500 non-null    object\n",
      " 8   Seguro_Médico         500 non-null    object\n",
      " 9   Ciudad                500 non-null    object\n",
      "dtypes: int64(1), object(9)\n",
      "memory usage: 39.2+ KB\n"
     ]
    }
   ],
   "source": [
    "df.info()\n"
   ]
  },
  {
   "cell_type": "markdown",
   "id": "e471d650",
   "metadata": {},
   "source": [
    "## 3. Exploración inicial del dataset\n",
    "Con `df.info()` verificamos la cantidad de registros, tipos de datos y presencia de valores nulos."
   ]
  },
  {
   "cell_type": "code",
   "execution_count": 53,
   "id": "b6199a10-e8cd-46b9-9dfd-88c97db9d43f",
   "metadata": {},
   "outputs": [],
   "source": [
    "#renombrando columna dias de hospitalizacion\n",
    "df.rename(columns={\"Días_Hospitalización\": \"dias_hospitalizacion\"}, inplace=True)"
   ]
  },
  {
   "cell_type": "markdown",
   "id": "d0288c5b",
   "metadata": {},
   "source": [
    "**Interpretación:** Existen valores nulos en `dias_hospitalizacion` y algunos datos en formato de texto que requieren limpieza."
   ]
  },
  {
   "cell_type": "code",
   "execution_count": 54,
   "id": "c164763a-961e-488a-99bb-919131da2578",
   "metadata": {},
   "outputs": [
    {
     "name": "stdout",
     "output_type": "stream",
     "text": [
      "Datos nulos: 0\n"
     ]
    }
   ],
   "source": [
    "#contando datos nulos\n",
    "print(f\"Datos nulos: {df['dias_hospitalizacion'].isna().sum()}\")"
   ]
  },
  {
   "cell_type": "code",
   "execution_count": 55,
   "id": "0dd23f60-b1dd-4537-bbd0-9a11ee2abf88",
   "metadata": {},
   "outputs": [
    {
     "name": "stdout",
     "output_type": "stream",
     "text": [
      "VALORES UNICOS -dias hospitalizacion\n",
      "['26 días' '22 días' 'dos días' '20 días' '27 días' '8 días' '5 días'\n",
      " 'N/A días' '3 días' '29 días' '7 días' '13 días' 'cinco días' '28 días'\n",
      " '4 días' '18 días' '25 días' '15 días' '24 días' '9 días' '17 días'\n",
      " '11 días' '14 días' '-1 días' '23 días' '12 días' '1 días' '0 días'\n",
      " '2 días' '21 días' '6 días' '10 días' '19 días' '-5 días' '30 días'\n",
      " '16 días' 'tres días']\n"
     ]
    }
   ],
   "source": [
    "#encontrando valores unicos\n",
    "print(\"VALORES UNICOS -dias hospitalizacion\")\n",
    "print(df[\"dias_hospitalizacion\"].unique())"
   ]
  },
  {
   "cell_type": "code",
   "execution_count": 56,
   "id": "252fb5a2-3b10-4106-9cd5-1da3c6463bac",
   "metadata": {},
   "outputs": [],
   "source": [
    "#eliminar palabra dias y espacios alrededor\n",
    "df.insert(6,\"dias_hospitalizacion_limpio\", df[\"dias_hospitalizacion\"].str.replace(\"días\",\"\",case=False, regex=False).str.strip())"
   ]
  },
  {
   "cell_type": "code",
   "execution_count": 57,
   "id": "229109a8-fc1c-43e4-9ad8-5184591ab72a",
   "metadata": {},
   "outputs": [
    {
     "name": "stdout",
     "output_type": "stream",
     "text": [
      "['26' '22' 'dos' '20' '27' '8' '5' 'N/A' '3' '29' '7' '13' 'cinco' '28'\n",
      " '4' '18' '25' '15' '24' '9' '17' '11' '14' '-1' '23' '12' '1' '0' '2'\n",
      " '21' '6' '10' '19' '-5' '30' '16' 'tres']\n"
     ]
    }
   ],
   "source": [
    "print(df[\"dias_hospitalizacion_limpio\"].unique())"
   ]
  },
  {
   "cell_type": "code",
   "execution_count": 58,
   "id": "9ab4c147-d150-4f37-b2a8-cfc0cfea1a40",
   "metadata": {},
   "outputs": [],
   "source": [
    "#corvientiendo a numerico dias_hospitalizacion_limpio\n",
    "df[\"dias_hospitalizacion_limpio\"] = pd.to_numeric(df\n",
    "   [\"dias_hospitalizacion_limpio\"], errors=\"coerce\")"
   ]
  },
  {
   "cell_type": "code",
   "execution_count": 59,
   "id": "04c6adb8-2ba3-4aa8-a5ea-7bbe0b96b1fd",
   "metadata": {},
   "outputs": [
    {
     "name": "stdout",
     "output_type": "stream",
     "text": [
      "<bound method NDFrame.head of     ID_Paciente  Nombre  Edad Sexo   Diagnóstico dias_hospitalizacion  \\\n",
      "0         P0001     Ana    52    M      Diabetes              26 días   \n",
      "1         P0002    Juan    93    M      Fractura              22 días   \n",
      "2         P0003  Miguel    15    F  Hipertensión             dos días   \n",
      "3         P0004   Lucía    72    M      Diabetes              20 días   \n",
      "4         P0005   Lucía    61    M      Fractura              27 días   \n",
      "..          ...     ...   ...  ...           ...                  ...   \n",
      "495       P0496   Elena    93    F  Hipertensión              14 días   \n",
      "496       P0497   Elena    67    M      Neumonía              13 días   \n",
      "497       P0498   Lucía    76    F      Fractura              -5 días   \n",
      "498       P0499  Andrés    26    F      Diabetes               0 días   \n",
      "499       P0500   Elena    16    F      Covid-19              30 días   \n",
      "\n",
      "     dias_hospitalizacion_limpio     Unidad Fecha_Ingreso Seguro_Médico  \\\n",
      "0                           26.0    Cirugía    2024-04-23            Sí   \n",
      "1                           22.0        UCI    2024-01-08            No   \n",
      "2                            NaN  Pediatría    2024-03-12            No   \n",
      "3                           20.0        UCI    2024-06-26            No   \n",
      "4                           27.0  Urgencias    2024-04-01            No   \n",
      "..                           ...        ...           ...           ...   \n",
      "495                         14.0    Cirugía    2024-04-13            No   \n",
      "496                         13.0    Cirugía    2024-04-17            No   \n",
      "497                         -5.0  Urgencias    2024-03-05            Sí   \n",
      "498                          0.0  Urgencias    2024-04-30            No   \n",
      "499                         30.0  Urgencias    2024-01-30            No   \n",
      "\n",
      "       Ciudad  \n",
      "0    Medellín  \n",
      "1    Medellín  \n",
      "2        Cali  \n",
      "3      Bogotá  \n",
      "4    Medellín  \n",
      "..        ...  \n",
      "495    Bogotá  \n",
      "496    Bogotá  \n",
      "497     Pasto  \n",
      "498     Pasto  \n",
      "499    Bogotá  \n",
      "\n",
      "[500 rows x 11 columns]>\n"
     ]
    }
   ],
   "source": [
    "print(df.head)"
   ]
  },
  {
   "cell_type": "code",
   "execution_count": 60,
   "id": "6ccaa15f-4237-40b9-a692-ba368c5edc4f",
   "metadata": {},
   "outputs": [
    {
     "name": "stdout",
     "output_type": "stream",
     "text": [
      "[-5. -1.  0.  1.  2.  3.  4.  5.  6.  7.  8.  9. 10. 11. 12. 13. 14. 15.\n",
      " 16. 17. 18. 19. 20. 21. 22. 23. 24. 25. 26. 27. 28. 29. 30. nan]\n"
     ]
    }
   ],
   "source": [
    "print(df[\"dias_hospitalizacion_limpio\"].sort_values().unique())"
   ]
  },
  {
   "cell_type": "code",
   "execution_count": 61,
   "id": "9f98e358-43c9-478f-9f83-eb73ea420ce1",
   "metadata": {},
   "outputs": [
    {
     "name": "stdout",
     "output_type": "stream",
     "text": [
      "15.0\n"
     ]
    }
   ],
   "source": [
    "#obteniendo mediana para imputacion\n",
    "mediana_i=df[\"dias_hospitalizacion_limpio\"].median()\n",
    "print(mediana_i)"
   ]
  },
  {
   "cell_type": "code",
   "execution_count": 62,
   "id": "5c3d738e-2c71-4216-a64a-c712fcf9b10a",
   "metadata": {},
   "outputs": [],
   "source": [
    "# Imputar la mediana en los valores <= 0\n",
    "df[\"dias_hospitalizacion_limpio\"] = np.where(\n",
    "    df[\"dias_hospitalizacion_limpio\"] <= 0,\n",
    "    mediana_i,\n",
    "    df[\"dias_hospitalizacion_limpio\"]\n",
    ")"
   ]
  },
  {
   "cell_type": "code",
   "execution_count": 63,
   "id": "bad8b26a-3817-4ee0-b666-b1618034a8fe",
   "metadata": {},
   "outputs": [
    {
     "name": "stdout",
     "output_type": "stream",
     "text": [
      "<class 'pandas.core.frame.DataFrame'>\n",
      "RangeIndex: 500 entries, 0 to 499\n",
      "Data columns (total 11 columns):\n",
      " #   Column                       Non-Null Count  Dtype  \n",
      "---  ------                       --------------  -----  \n",
      " 0   ID_Paciente                  500 non-null    object \n",
      " 1   Nombre                       500 non-null    object \n",
      " 2   Edad                         500 non-null    int64  \n",
      " 3   Sexo                         500 non-null    object \n",
      " 4   Diagnóstico                  500 non-null    object \n",
      " 5   dias_hospitalizacion         500 non-null    object \n",
      " 6   dias_hospitalizacion_limpio  430 non-null    float64\n",
      " 7   Unidad                       500 non-null    object \n",
      " 8   Fecha_Ingreso                500 non-null    object \n",
      " 9   Seguro_Médico                500 non-null    object \n",
      " 10  Ciudad                       500 non-null    object \n",
      "dtypes: float64(1), int64(1), object(9)\n",
      "memory usage: 43.1+ KB\n"
     ]
    }
   ],
   "source": [
    "df.info()"
   ]
  },
  {
   "cell_type": "code",
   "execution_count": 65,
   "id": "c5d8477e-85ee-47ec-97c7-f92f7c2d243b",
   "metadata": {},
   "outputs": [],
   "source": [
    "df[\"dias_hospitalizacion_limpio\"] = df[\"dias_hospitalizacion_limpio\"].fillna(mediana_i)"
   ]
  },
  {
   "cell_type": "code",
   "execution_count": 66,
   "id": "622315c2-e81e-4337-8c02-0e6283f812be",
   "metadata": {},
   "outputs": [
    {
     "name": "stdout",
     "output_type": "stream",
     "text": [
      "<class 'pandas.core.frame.DataFrame'>\n",
      "RangeIndex: 500 entries, 0 to 499\n",
      "Data columns (total 11 columns):\n",
      " #   Column                       Non-Null Count  Dtype  \n",
      "---  ------                       --------------  -----  \n",
      " 0   ID_Paciente                  500 non-null    object \n",
      " 1   Nombre                       500 non-null    object \n",
      " 2   Edad                         500 non-null    int64  \n",
      " 3   Sexo                         500 non-null    object \n",
      " 4   Diagnóstico                  500 non-null    object \n",
      " 5   dias_hospitalizacion         500 non-null    object \n",
      " 6   dias_hospitalizacion_limpio  500 non-null    float64\n",
      " 7   Unidad                       500 non-null    object \n",
      " 8   Fecha_Ingreso                500 non-null    object \n",
      " 9   Seguro_Médico                500 non-null    object \n",
      " 10  Ciudad                       500 non-null    object \n",
      "dtypes: float64(1), int64(1), object(9)\n",
      "memory usage: 43.1+ KB\n"
     ]
    }
   ],
   "source": [
    "df.info()"
   ]
  },
  {
   "cell_type": "code",
   "execution_count": 67,
   "id": "f0f9d9bb-6033-4a2f-8c8e-7c5122ae9521",
   "metadata": {},
   "outputs": [],
   "source": [
    "#cambio de tipo\n",
    "df[\"dias_hospitalizacion_limpio\"] = df[\"dias_hospitalizacion_limpio\"].astype(int)"
   ]
  },
  {
   "cell_type": "code",
   "execution_count": 68,
   "id": "5f2490b9-e1ad-444f-86f1-13efeb940170",
   "metadata": {},
   "outputs": [
    {
     "data": {
      "text/plain": [
       "15.426"
      ]
     },
     "execution_count": 68,
     "metadata": {},
     "output_type": "execute_result"
    }
   ],
   "source": [
    "#media\n",
    "media = df[\"dias_hospitalizacion_limpio\"].mean()\n",
    "media"
   ]
  },
  {
   "cell_type": "code",
   "execution_count": 69,
   "id": "5a1fc88f-9826-4f6f-ab75-9eafea5781f3",
   "metadata": {},
   "outputs": [
    {
     "data": {
      "text/plain": [
       "29"
      ]
     },
     "execution_count": 69,
     "metadata": {},
     "output_type": "execute_result"
    }
   ],
   "source": [
    "#medidas de dispersion\n",
    "rango = df[\"dias_hospitalizacion_limpio\"].max() - df[\"dias_hospitalizacion_limpio\"].min()\n",
    "rango\n"
   ]
  },
  {
   "cell_type": "code",
   "execution_count": 70,
   "id": "d5fd7095-ec58-48d6-bee8-4545266cecb0",
   "metadata": {},
   "outputs": [
    {
     "data": {
      "text/plain": [
       "56.38128657314648"
      ]
     },
     "execution_count": 70,
     "metadata": {},
     "output_type": "execute_result"
    }
   ],
   "source": [
    "#varianza\n",
    "varianza = df[\"dias_hospitalizacion_limpio\"].var()\n",
    "varianza"
   ]
  },
  {
   "cell_type": "code",
   "execution_count": 73,
   "id": "c8476b0f-6534-4daf-b354-661a9ea37049",
   "metadata": {},
   "outputs": [
    {
     "data": {
      "text/plain": [
       "7.508747337149285"
      ]
     },
     "execution_count": 73,
     "metadata": {},
     "output_type": "execute_result"
    }
   ],
   "source": [
    "desviacion_estandar = np.sqrt(varianza)\n",
    "desviacion_estandar"
   ]
  },
  {
   "cell_type": "code",
   "execution_count": 74,
   "id": "50a0533f-3f20-4e14-8721-6f2184a9e4fc",
   "metadata": {},
   "outputs": [
    {
     "data": {
      "text/plain": [
       "7.508747337149285"
      ]
     },
     "execution_count": 74,
     "metadata": {},
     "output_type": "execute_result"
    }
   ],
   "source": [
    "#otra forma de desviacion estandar\n",
    "desviacion_estandarr = df[\"dias_hospitalizacion_limpio\"].std()\n",
    "desviacion_estandarr"
   ]
  },
  {
   "cell_type": "code",
   "execution_count": 78,
   "id": "3fce60a4-4303-44cd-b4f1-6b05850c5c56",
   "metadata": {},
   "outputs": [
    {
     "data": {
      "text/plain": [
       "48.675919468101156"
      ]
     },
     "execution_count": 78,
     "metadata": {},
     "output_type": "execute_result"
    }
   ],
   "source": [
    "#coeficiente de variacion\n",
    "coeficiente_variacion = ((desviacion_estandar) / (media)) * 100\n",
    "coeficiente_variacion"
   ]
  },
  {
   "cell_type": "code",
   "execution_count": null,
   "id": "ec811d36-ae7d-4e6d-883f-3727af3ef7a3",
   "metadata": {},
   "outputs": [],
   "source": []
  }
 ],
 "metadata": {
  "kernelspec": {
   "display_name": "Python 3 (ipykernel)",
   "language": "python",
   "name": "python3"
  },
  "language_info": {
   "codemirror_mode": {
    "name": "ipython",
    "version": 3
   },
   "file_extension": ".py",
   "mimetype": "text/x-python",
   "name": "python",
   "nbconvert_exporter": "python",
   "pygments_lexer": "ipython3",
   "version": "3.11.7"
  }
 },
 "nbformat": 4,
 "nbformat_minor": 5
}
