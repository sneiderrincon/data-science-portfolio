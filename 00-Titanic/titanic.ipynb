{
 "cells": [
  {
   "cell_type": "markdown",
   "id": "e7cc75d9-723b-44c6-b48a-b8cefb49c239",
   "metadata": {},
   "source": [
    "# Titanic Binary Classification – Regresión Logística y Árboles de Decisión\n",
    "\n",
    "Este proyecto explora el dataset del Titanic preparado específicamente para modelos de clasificación binaria, aplicando regresión logística y árboles de decisión.\n",
    "\n",
    "## 🎯 Objetivo\n",
    "\n",
    "Utilizar un dataset modificado del Titanic para entrenar modelos supervisados que predigan la probabilidad de supervivencia de los pasajeros.\n",
    "\n",
    "## 🧪 Tecnologías utilizadas\n",
    "\n",
    "- Python\n",
    "- Pandas, NumPy\n",
    "- scikit-learn\n",
    "- Seaborn, Matplotlib\n",
    "\n",
    "## ⚙️ Proceso\n",
    "\n",
    "1. Limpieza de datos:\n",
    "   - Eliminación de columnas irrelevantes (`zero*`)\n",
    "   - Tratamiento de valores nulos}\n",
    "   - Renombrado de columnas mal escritas\n",
    "\n",
    "2. Modelado:\n",
    "   - División de datos en entrenamiento y prueba\n",
    "   - Entrenamiento con:\n",
    "     - Árbol de decisión\n",
    "     - Regresión logística\n",
    "   - Evaluación con accuracy y matriz de confusión\n",
    "\n",
    "3. Visualización:\n",
    "   - Gráficos de sobrevivientes por sexo\n",
    "   - Matriz de confusión"
   ]
  },
  {
   "cell_type": "code",
   "execution_count": 5,
   "id": "912c71b1-86ee-43e0-bd68-084ff35ffab4",
   "metadata": {},
   "outputs": [],
   "source": [
    "import numpy as np\n",
    "import pandas as pd\n",
    "import matplotlib.pyplot as plt\n",
    "import seaborn as sns\n",
    "from sklearn.linear_model import LogisticRegression\n",
    "from sklearn.model_selection import train_test_split\n",
    "from sklearn.tree import DecisionTreeClassifier\n",
    "from sklearn.metrics import accuracy_score, confusion_matrix, ConfusionMatrixDisplay\n",
    "import os"
   ]
  },
  {
   "cell_type": "code",
   "execution_count": 14,
   "id": "f170fe6b-8a63-494c-b8b6-f5c297ec0488",
   "metadata": {},
   "outputs": [],
   "source": [
    "df1=pd.read_csv(\"Titanic.csv\", sep=\",\" , encoding=\"Latin1\")"
   ]
  },
  {
   "cell_type": "code",
   "execution_count": 15,
   "id": "de4b294d-2381-4552-8c9f-13b9a3cfaae7",
   "metadata": {},
   "outputs": [
    {
     "data": {
      "text/html": [
       "<div>\n",
       "<style scoped>\n",
       "    .dataframe tbody tr th:only-of-type {\n",
       "        vertical-align: middle;\n",
       "    }\n",
       "\n",
       "    .dataframe tbody tr th {\n",
       "        vertical-align: top;\n",
       "    }\n",
       "\n",
       "    .dataframe thead th {\n",
       "        text-align: right;\n",
       "    }\n",
       "</style>\n",
       "<table border=\"1\" class=\"dataframe\">\n",
       "  <thead>\n",
       "    <tr style=\"text-align: right;\">\n",
       "      <th></th>\n",
       "      <th>Passengerid</th>\n",
       "      <th>Age</th>\n",
       "      <th>Fare</th>\n",
       "      <th>Sex</th>\n",
       "      <th>sibsp</th>\n",
       "      <th>zero</th>\n",
       "      <th>zero.1</th>\n",
       "      <th>zero.2</th>\n",
       "      <th>zero.3</th>\n",
       "      <th>zero.4</th>\n",
       "      <th>...</th>\n",
       "      <th>zero.12</th>\n",
       "      <th>zero.13</th>\n",
       "      <th>zero.14</th>\n",
       "      <th>Pclass</th>\n",
       "      <th>zero.15</th>\n",
       "      <th>zero.16</th>\n",
       "      <th>Embarked</th>\n",
       "      <th>zero.17</th>\n",
       "      <th>zero.18</th>\n",
       "      <th>2urvived</th>\n",
       "    </tr>\n",
       "  </thead>\n",
       "  <tbody>\n",
       "    <tr>\n",
       "      <th>0</th>\n",
       "      <td>1</td>\n",
       "      <td>22.0</td>\n",
       "      <td>7.2500</td>\n",
       "      <td>0</td>\n",
       "      <td>1</td>\n",
       "      <td>0</td>\n",
       "      <td>0</td>\n",
       "      <td>0</td>\n",
       "      <td>0</td>\n",
       "      <td>0</td>\n",
       "      <td>...</td>\n",
       "      <td>0</td>\n",
       "      <td>0</td>\n",
       "      <td>0</td>\n",
       "      <td>3</td>\n",
       "      <td>0</td>\n",
       "      <td>0</td>\n",
       "      <td>2.0</td>\n",
       "      <td>0</td>\n",
       "      <td>0</td>\n",
       "      <td>0</td>\n",
       "    </tr>\n",
       "    <tr>\n",
       "      <th>1</th>\n",
       "      <td>2</td>\n",
       "      <td>38.0</td>\n",
       "      <td>71.2833</td>\n",
       "      <td>1</td>\n",
       "      <td>1</td>\n",
       "      <td>0</td>\n",
       "      <td>0</td>\n",
       "      <td>0</td>\n",
       "      <td>0</td>\n",
       "      <td>0</td>\n",
       "      <td>...</td>\n",
       "      <td>0</td>\n",
       "      <td>0</td>\n",
       "      <td>0</td>\n",
       "      <td>1</td>\n",
       "      <td>0</td>\n",
       "      <td>0</td>\n",
       "      <td>0.0</td>\n",
       "      <td>0</td>\n",
       "      <td>0</td>\n",
       "      <td>1</td>\n",
       "    </tr>\n",
       "    <tr>\n",
       "      <th>2</th>\n",
       "      <td>3</td>\n",
       "      <td>26.0</td>\n",
       "      <td>7.9250</td>\n",
       "      <td>1</td>\n",
       "      <td>0</td>\n",
       "      <td>0</td>\n",
       "      <td>0</td>\n",
       "      <td>0</td>\n",
       "      <td>0</td>\n",
       "      <td>0</td>\n",
       "      <td>...</td>\n",
       "      <td>0</td>\n",
       "      <td>0</td>\n",
       "      <td>0</td>\n",
       "      <td>3</td>\n",
       "      <td>0</td>\n",
       "      <td>0</td>\n",
       "      <td>2.0</td>\n",
       "      <td>0</td>\n",
       "      <td>0</td>\n",
       "      <td>1</td>\n",
       "    </tr>\n",
       "    <tr>\n",
       "      <th>3</th>\n",
       "      <td>4</td>\n",
       "      <td>35.0</td>\n",
       "      <td>53.1000</td>\n",
       "      <td>1</td>\n",
       "      <td>1</td>\n",
       "      <td>0</td>\n",
       "      <td>0</td>\n",
       "      <td>0</td>\n",
       "      <td>0</td>\n",
       "      <td>0</td>\n",
       "      <td>...</td>\n",
       "      <td>0</td>\n",
       "      <td>0</td>\n",
       "      <td>0</td>\n",
       "      <td>1</td>\n",
       "      <td>0</td>\n",
       "      <td>0</td>\n",
       "      <td>2.0</td>\n",
       "      <td>0</td>\n",
       "      <td>0</td>\n",
       "      <td>1</td>\n",
       "    </tr>\n",
       "    <tr>\n",
       "      <th>4</th>\n",
       "      <td>5</td>\n",
       "      <td>35.0</td>\n",
       "      <td>8.0500</td>\n",
       "      <td>0</td>\n",
       "      <td>0</td>\n",
       "      <td>0</td>\n",
       "      <td>0</td>\n",
       "      <td>0</td>\n",
       "      <td>0</td>\n",
       "      <td>0</td>\n",
       "      <td>...</td>\n",
       "      <td>0</td>\n",
       "      <td>0</td>\n",
       "      <td>0</td>\n",
       "      <td>3</td>\n",
       "      <td>0</td>\n",
       "      <td>0</td>\n",
       "      <td>2.0</td>\n",
       "      <td>0</td>\n",
       "      <td>0</td>\n",
       "      <td>0</td>\n",
       "    </tr>\n",
       "  </tbody>\n",
       "</table>\n",
       "<p>5 rows × 28 columns</p>\n",
       "</div>"
      ],
      "text/plain": [
       "   Passengerid   Age     Fare  Sex  sibsp  zero  zero.1  zero.2  zero.3  \\\n",
       "0            1  22.0   7.2500    0      1     0       0       0       0   \n",
       "1            2  38.0  71.2833    1      1     0       0       0       0   \n",
       "2            3  26.0   7.9250    1      0     0       0       0       0   \n",
       "3            4  35.0  53.1000    1      1     0       0       0       0   \n",
       "4            5  35.0   8.0500    0      0     0       0       0       0   \n",
       "\n",
       "   zero.4  ...  zero.12  zero.13  zero.14  Pclass  zero.15  zero.16  Embarked  \\\n",
       "0       0  ...        0        0        0       3        0        0       2.0   \n",
       "1       0  ...        0        0        0       1        0        0       0.0   \n",
       "2       0  ...        0        0        0       3        0        0       2.0   \n",
       "3       0  ...        0        0        0       1        0        0       2.0   \n",
       "4       0  ...        0        0        0       3        0        0       2.0   \n",
       "\n",
       "   zero.17  zero.18  2urvived  \n",
       "0        0        0         0  \n",
       "1        0        0         1  \n",
       "2        0        0         1  \n",
       "3        0        0         1  \n",
       "4        0        0         0  \n",
       "\n",
       "[5 rows x 28 columns]"
      ]
     },
     "execution_count": 15,
     "metadata": {},
     "output_type": "execute_result"
    }
   ],
   "source": [
    "#realizamos una exploracion rapida de los datos\n",
    "df1.head()\n"
   ]
  },
  {
   "cell_type": "code",
   "execution_count": 18,
   "id": "a9f4fce7-fd06-4b8f-93ee-422a825636ca",
   "metadata": {},
   "outputs": [],
   "source": [
    "# Eliminar columnas que empiezan con \"zero\"\n",
    "zero_cols = [col for col in df1.columns if col.startswith(\"zero\")]\n",
    "df1 = df1.drop(columns=zero_cols)"
   ]
  },
  {
   "cell_type": "code",
   "execution_count": 19,
   "id": "3125b060-717a-4c8f-a564-300aaabad12b",
   "metadata": {},
   "outputs": [
    {
     "data": {
      "text/html": [
       "<div>\n",
       "<style scoped>\n",
       "    .dataframe tbody tr th:only-of-type {\n",
       "        vertical-align: middle;\n",
       "    }\n",
       "\n",
       "    .dataframe tbody tr th {\n",
       "        vertical-align: top;\n",
       "    }\n",
       "\n",
       "    .dataframe thead th {\n",
       "        text-align: right;\n",
       "    }\n",
       "</style>\n",
       "<table border=\"1\" class=\"dataframe\">\n",
       "  <thead>\n",
       "    <tr style=\"text-align: right;\">\n",
       "      <th></th>\n",
       "      <th>Passengerid</th>\n",
       "      <th>Age</th>\n",
       "      <th>Fare</th>\n",
       "      <th>Sex</th>\n",
       "      <th>sibsp</th>\n",
       "      <th>Parch</th>\n",
       "      <th>Pclass</th>\n",
       "      <th>Embarked</th>\n",
       "      <th>2urvived</th>\n",
       "    </tr>\n",
       "  </thead>\n",
       "  <tbody>\n",
       "    <tr>\n",
       "      <th>0</th>\n",
       "      <td>1</td>\n",
       "      <td>22.0</td>\n",
       "      <td>7.2500</td>\n",
       "      <td>0</td>\n",
       "      <td>1</td>\n",
       "      <td>0</td>\n",
       "      <td>3</td>\n",
       "      <td>2.0</td>\n",
       "      <td>0</td>\n",
       "    </tr>\n",
       "    <tr>\n",
       "      <th>1</th>\n",
       "      <td>2</td>\n",
       "      <td>38.0</td>\n",
       "      <td>71.2833</td>\n",
       "      <td>1</td>\n",
       "      <td>1</td>\n",
       "      <td>0</td>\n",
       "      <td>1</td>\n",
       "      <td>0.0</td>\n",
       "      <td>1</td>\n",
       "    </tr>\n",
       "    <tr>\n",
       "      <th>2</th>\n",
       "      <td>3</td>\n",
       "      <td>26.0</td>\n",
       "      <td>7.9250</td>\n",
       "      <td>1</td>\n",
       "      <td>0</td>\n",
       "      <td>0</td>\n",
       "      <td>3</td>\n",
       "      <td>2.0</td>\n",
       "      <td>1</td>\n",
       "    </tr>\n",
       "    <tr>\n",
       "      <th>3</th>\n",
       "      <td>4</td>\n",
       "      <td>35.0</td>\n",
       "      <td>53.1000</td>\n",
       "      <td>1</td>\n",
       "      <td>1</td>\n",
       "      <td>0</td>\n",
       "      <td>1</td>\n",
       "      <td>2.0</td>\n",
       "      <td>1</td>\n",
       "    </tr>\n",
       "    <tr>\n",
       "      <th>4</th>\n",
       "      <td>5</td>\n",
       "      <td>35.0</td>\n",
       "      <td>8.0500</td>\n",
       "      <td>0</td>\n",
       "      <td>0</td>\n",
       "      <td>0</td>\n",
       "      <td>3</td>\n",
       "      <td>2.0</td>\n",
       "      <td>0</td>\n",
       "    </tr>\n",
       "  </tbody>\n",
       "</table>\n",
       "</div>"
      ],
      "text/plain": [
       "   Passengerid   Age     Fare  Sex  sibsp  Parch  Pclass  Embarked  2urvived\n",
       "0            1  22.0   7.2500    0      1      0       3       2.0         0\n",
       "1            2  38.0  71.2833    1      1      0       1       0.0         1\n",
       "2            3  26.0   7.9250    1      0      0       3       2.0         1\n",
       "3            4  35.0  53.1000    1      1      0       1       2.0         1\n",
       "4            5  35.0   8.0500    0      0      0       3       2.0         0"
      ]
     },
     "execution_count": 19,
     "metadata": {},
     "output_type": "execute_result"
    }
   ],
   "source": [
    "df1.head()"
   ]
  },
  {
   "cell_type": "code",
   "execution_count": 21,
   "id": "26516ab1-2849-444c-ae87-0f3287c526c2",
   "metadata": {},
   "outputs": [],
   "source": [
    "#vamos a corregir el nombre de las columnas\n",
    "df1 = df1.rename(columns={'2urvived': 'Survived', 'Passengerid': 'PassengerId'})"
   ]
  },
  {
   "cell_type": "code",
   "execution_count": 22,
   "id": "47901863-c01c-40c5-8750-48ffd6235985",
   "metadata": {},
   "outputs": [],
   "source": [
    "#vamos a eliminar los valores nulos\n",
    "df1 = df1.dropna()\n"
   ]
  },
  {
   "cell_type": "code",
   "execution_count": 24,
   "id": "6305408e-73ea-4016-bb40-bd562e635ad8",
   "metadata": {},
   "outputs": [],
   "source": [
    "# Definir variables predictoras y target\n",
    "X = df1.drop(['Survived', 'PassengerId'], axis=1)\n",
    "y = df1['Survived']"
   ]
  },
  {
   "cell_type": "code",
   "execution_count": 25,
   "id": "77fe5ea1-0a16-471f-a0bf-0f141de6c2c4",
   "metadata": {},
   "outputs": [],
   "source": [
    "# Dividir en entrenamiento y prueba\n",
    "X_train, X_test, y_train, y_test = train_test_split(X, y, train_size=0.8, random_state=66)"
   ]
  },
  {
   "cell_type": "code",
   "execution_count": 26,
   "id": "41995a77-91c5-4510-a87d-f0ac73f1971d",
   "metadata": {},
   "outputs": [],
   "source": [
    "# Entrenar modelo de Árbol de Decisión\n",
    "tree = DecisionTreeClassifier(random_state=42)\n",
    "tree.fit(X_train, y_train)\n",
    "y_pred_tree = tree.predict(X_test)"
   ]
  },
  {
   "cell_type": "code",
   "execution_count": 27,
   "id": "ab4ed3e6-f871-488a-a06c-4c636fc9cc6b",
   "metadata": {},
   "outputs": [],
   "source": [
    "# Entrenar Regresión Logística\n",
    "log = LogisticRegression(max_iter=1000)\n",
    "log.fit(X_train, y_train)\n",
    "y_pred_log = log.predict(X_test)"
   ]
  },
  {
   "cell_type": "code",
   "execution_count": 28,
   "id": "cfc1a6a9-61bc-4b83-a91c-8054d3452746",
   "metadata": {},
   "outputs": [
    {
     "name": "stdout",
     "output_type": "stream",
     "text": [
      "Precisión Árbol de Decisión: 0.7633587786259542\n",
      "Precisión Regresión Logística: 0.767175572519084\n"
     ]
    }
   ],
   "source": [
    "# Resultados\n",
    "print(\"Precisión Árbol de Decisión:\", accuracy_score(y_test, y_pred_tree))\n",
    "print(\"Precisión Regresión Logística:\", accuracy_score(y_test, y_pred_log))"
   ]
  },
  {
   "cell_type": "code",
   "execution_count": 29,
   "id": "dbc4d47b-0043-4382-be5b-f01ca26a6771",
   "metadata": {},
   "outputs": [
    {
     "data": {
      "image/png": "[encoded data removed]",
      "text/plain": [
       "<Figure size 640x480 with 2 Axes>"
      ]
     },
     "metadata": {},
     "output_type": "display_data"
    }
   ],
   "source": [
    "# Matriz de Confusión para LogReg\n",
    "cm = confusion_matrix(y_test, y_pred_log)\n",
    "disp = ConfusionMatrixDisplay(confusion_matrix=cm)\n",
    "disp.plot()\n",
    "plt.title(\"Matriz de confusión - Regresión Logística\")\n",
    "plt.show()"
   ]
  },
  {
   "cell_type": "markdown",
   "id": "4c6e0740-78a6-4a5f-9030-fe1956f24d17",
   "metadata": {},
   "source": [
    "Análisis:\n",
    "\n",
    "Verdaderos negativos (TN): 173 pasajeros no sobrevivieron y fueron correctamente clasificados.\n",
    "\n",
    "Falsos positivos (FP): 16 pasajeros fueron clasificados como sobrevivientes pero no lo eran.\n",
    "\n",
    "Falsos negativos (FN): 45 pasajeros sí sobrevivieron pero fueron clasificados como no sobrevivientes.\n",
    "\n",
    "Verdaderos positivos (TP): 28 pasajeros sobrevivieron y fueron correctamente clasificados.\n",
    "\n",
    "Indicadores clave:\n",
    "\n",
    "El modelo tiene mayor precisión en detectar no sobrevivientes (clase 0).\n",
    "\n",
    "Alto número de falsos negativos (45) → esto implica que el modelo falla bastante al predecir a los sobrevivientes.\n",
    "\n",
    "Posible desbalance de clases o importancia insuficiente de variables predictoras relacionadas con la supervivencia (ej. sexo, clase, edad)."
   ]
  },
  {
   "cell_type": "code",
   "execution_count": 31,
   "id": "69c5eff4-d57d-46bd-be3a-caee42c3e210",
   "metadata": {},
   "outputs": [
    {
     "name": "stdout",
     "output_type": "stream",
     "text": [
      "Sobrevivientes por sexo:\n",
      "Sex\n",
      "1    231\n",
      "0    109\n",
      "Name: count, dtype: int64\n"
     ]
    }
   ],
   "source": [
    "# Análisis de género\n",
    "survivors = df1[df1['Survived'] == 1]\n",
    "print(\"Sobrevivientes por sexo:\")\n",
    "print(survivors['Sex'].value_counts())\n"
   ]
  },
  {
   "cell_type": "code",
   "execution_count": 32,
   "id": "b4abb1e8-1445-451a-b1d1-77d231b63029",
   "metadata": {},
   "outputs": [
    {
     "data": {
      "image/png": "[encoded data removed]",
      "text/plain": [
       "<Figure size 640x480 with 1 Axes>"
      ]
     },
     "metadata": {},
     "output_type": "display_data"
    }
   ],
   "source": [
    "sns.countplot(data=survivors, x='Sex')\n",
    "plt.title('Sobrevivientes por Sexo')\n",
    "plt.show()"
   ]
  },
  {
   "cell_type": "markdown",
   "id": "73aa392c-cf66-4362-8ba4-229265f6b607",
   "metadata": {},
   "source": [
    "El gráfico muestra que hay más mujeres sobrevivientes (Sex = 1) que hombres.\n",
    "\n",
    "Esto confirma el patrón histórico del Titanic, donde las mujeres y los niños tenían prioridad en los botes salvavidas."
   ]
  },
  {
   "cell_type": "code",
   "execution_count": 36,
   "id": "867caf1e-fe29-4fab-aacc-2d7d9390fc75",
   "metadata": {},
   "outputs": [
    {
     "name": "stdout",
     "output_type": "stream",
     "text": [
      "Probabilidad de que el pasajero sobreviva: 0.26\n"
     ]
    },
    {
     "name": "stderr",
     "output_type": "stream",
     "text": [
      "C:\\Users\\elcar\\Documents\\anaconda\\Lib\\site-packages\\sklearn\\base.py:439: UserWarning: X does not have valid feature names, but LogisticRegression was fitted with feature names\n",
      "  warnings.warn(\n"
     ]
    }
   ],
   "source": [
    "#vamos a predecir la probabilidad de sobrevivencia de una persona en particular\n",
    "# Ejemplo: predecir la probabilidad de supervivencia de un pasajero\n",
    "\n",
    "nuevo_pasajero = np.array([[26, 53, 0, 1, 1, 1, 2]])  # ejemplo con tus variables\n",
    "\n",
    "# Predecir probabilidad con el modelo de regresión logística\n",
    "probabilidad = log.predict_proba(nuevo_pasajero)[0][1]\n",
    "print(f\"Probabilidad de que el pasajero sobreviva: {probabilidad:.2f}\")"
   ]
  },
  {
   "cell_type": "code",
   "execution_count": null,
   "id": "27048cd4-2a9c-4cfc-a2d9-7540f6f04d62",
   "metadata": {},
   "outputs": [],
   "source": []
  }
 ],
 "metadata": {
  "kernelspec": {
   "display_name": "Python 3 (ipykernel)",
   "language": "python",
   "name": "python3"
  },
  "language_info": {
   "codemirror_mode": {
    "name": "ipython",
    "version": 3
   },
   "file_extension": ".py",
   "mimetype": "text/x-python",
   "name": "python",
   "nbconvert_exporter": "python",
   "pygments_lexer": "ipython3",
   "version": "3.11.7"
  }
 },
 "nbformat": 4,
 "nbformat_minor": 5
}
